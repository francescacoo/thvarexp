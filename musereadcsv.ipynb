{
 "cells": [
  {
   "cell_type": "code",
   "execution_count": 18,
   "metadata": {},
   "outputs": [],
   "source": [
    "import pandas as pd"
   ]
  },
  {
   "cell_type": "code",
   "execution_count": 19,
   "metadata": {},
   "outputs": [],
   "source": [
    "filename = \"museMonitor_2017-11-20--22-41-01_1793852811.csv\""
   ]
  },
  {
   "cell_type": "code",
   "execution_count": 20,
   "metadata": {},
   "outputs": [],
   "source": [
    "EEG_data = pd.read_csv(filename)"
   ]
  },
  {
   "cell_type": "code",
   "execution_count": 21,
   "metadata": {},
   "outputs": [],
   "source": [
    "num_cols = len(EEG_data.columns)\n"
   ]
  },
  {
   "cell_type": "code",
   "execution_count": 28,
   "metadata": {},
   "outputs": [
    {
     "name": "stdout",
     "output_type": "stream",
     "text": [
      "Session Date:  2017-11-20 22:41:01.738\n",
      "num_cols:  39\n"
     ]
    }
   ],
   "source": [
    "time_df = pd.DataFrame(EEG_data, columns=['TimeStamp'])    \n",
    "    \n",
    "print(\"Session Date: \", time_df['TimeStamp'][0])\n",
    "print(\"num_cols: \", num_cols)\n",
    "\n",
    "    "
   ]
  },
  {
   "cell_type": "code",
   "execution_count": 23,
   "metadata": {},
   "outputs": [
    {
     "name": "stdout",
     "output_type": "stream",
     "text": [
      "EEG_data.columns:  Index(['TimeStamp', 'Delta_TP9', 'Delta_AF7', 'Delta_AF8', 'Delta_TP10',\n",
      "       'Theta_TP9', 'Theta_AF7', 'Theta_AF8', 'Theta_TP10', 'Alpha_TP9',\n",
      "       'Alpha_AF7', 'Alpha_AF8', 'Alpha_TP10', 'Beta_TP9', 'Beta_AF7',\n",
      "       'Beta_AF8', 'Beta_TP10', 'Gamma_TP9', 'Gamma_AF7', 'Gamma_AF8',\n",
      "       'Gamma_TP10', 'RAW_TP9', 'RAW_AF7', 'RAW_AF8', 'RAW_TP10', 'AUX_RIGHT',\n",
      "       'Accelerometer_X', 'Accelerometer_Y', 'Accelerometer_Z', 'Gyro_X',\n",
      "       'Gyro_Y', 'Gyro_Z', 'HeadBandOn', 'HSI_TP9', 'HSI_AF7', 'HSI_AF8',\n",
      "       'HSI_TP10', 'Battery', 'Elements'],\n",
      "      dtype='object')\n"
     ]
    }
   ],
   "source": [
    "print(\"EEG_data.columns: \", EEG_data.columns)\n"
   ]
  },
  {
   "cell_type": "code",
   "execution_count": 24,
   "metadata": {},
   "outputs": [
    {
     "name": "stdout",
     "output_type": "stream",
     "text": [
      "EEG_data.describe():         Delta_TP9  Delta_AF7  Delta_AF8  Delta_TP10  Theta_TP9  Theta_AF7  \\\n",
      "count   5.000000   5.000000        5.0    5.000000   5.000000   5.000000   \n",
      "mean    0.831049   1.541623        0.0    0.800248   0.629923   0.990821   \n",
      "std     0.263204   0.483070        0.0    0.249217   0.176686   0.389155   \n",
      "min     0.463623   0.679280        0.0    0.564174   0.400562   0.307341   \n",
      "25%     0.747501   1.708531        0.0    0.598474   0.489841   1.061341   \n",
      "50%     0.850450   1.751455        0.0    0.707314   0.684350   1.120272   \n",
      "75%     0.902575   1.784424        0.0    1.030351   0.781829   1.232575   \n",
      "max     1.191093   1.784424        0.0    1.100928   0.793033   1.232575   \n",
      "\n",
      "       Theta_AF8  Theta_TP10  Alpha_TP9  Alpha_AF7    ...       Gyro_X  \\\n",
      "count        5.0    5.000000   5.000000   5.000000    ...     5.000000   \n",
      "mean         0.0    0.572134   1.001126   0.663192    ...    -1.996307   \n",
      "std          0.0    0.189444   0.136783   0.357311    ...     0.330632   \n",
      "min          0.0    0.320372   0.848078   0.407855    ...    -2.415009   \n",
      "25%          0.0    0.435945   0.938403   0.407855    ...    -2.145844   \n",
      "50%          0.0    0.620000   0.938558   0.418195    ...    -1.958923   \n",
      "75%          0.0    0.714755   1.091162   0.909224    ...    -1.951447   \n",
      "max          0.0    0.769600   1.189431   1.172833    ...    -1.510315   \n",
      "\n",
      "         Gyro_Y    Gyro_Z  HeadBandOn  HSI_TP9  HSI_AF7  HSI_AF8  HSI_TP10  \\\n",
      "count  5.000000  5.000000         5.0      5.0      5.0      5.0       5.0   \n",
      "mean   4.581787  2.863617         1.0      1.0      1.0      2.0       1.0   \n",
      "std    1.010039  0.314115         0.0      0.0      0.0      0.0       0.0   \n",
      "min    3.805695  2.512207         1.0      1.0      1.0      2.0       1.0   \n",
      "25%    3.872986  2.564545         1.0      1.0      1.0      2.0       1.0   \n",
      "50%    4.329071  2.990723         1.0      1.0      1.0      2.0       1.0   \n",
      "75%    4.613190  3.005676         1.0      1.0      1.0      2.0       1.0   \n",
      "max    6.287994  3.244934         1.0      1.0      1.0      2.0       1.0   \n",
      "\n",
      "       Battery  Elements  \n",
      "count     5.00       0.0  \n",
      "mean     97.94       NaN  \n",
      "std       0.00       NaN  \n",
      "min      97.94       NaN  \n",
      "25%      97.94       NaN  \n",
      "50%      97.94       NaN  \n",
      "75%      97.94       NaN  \n",
      "max      97.94       NaN  \n",
      "\n",
      "[8 rows x 38 columns]\n"
     ]
    }
   ],
   "source": [
    "print(\"EEG_data.describe(): \", EEG_data.describe())   \n"
   ]
  },
  {
   "cell_type": "code",
   "execution_count": 25,
   "metadata": {},
   "outputs": [
    {
     "name": "stdout",
     "output_type": "stream",
     "text": [
      "muse_EEG_data.keys():  Index(['TimeStamp', 'Delta_TP9', 'Delta_AF7', 'Delta_AF8', 'Delta_TP10',\n",
      "       'Theta_TP9', 'Theta_AF7', 'Theta_AF8', 'Theta_TP10', 'Alpha_TP9',\n",
      "       'Alpha_AF7', 'Alpha_AF8', 'Alpha_TP10', 'Beta_TP9', 'Beta_AF7',\n",
      "       'Beta_AF8', 'Beta_TP10', 'Gamma_TP9', 'Gamma_AF7', 'Gamma_AF8',\n",
      "       'Gamma_TP10', 'RAW_TP9', 'RAW_AF7', 'RAW_AF8', 'RAW_TP10', 'AUX_RIGHT',\n",
      "       'Accelerometer_X', 'Accelerometer_Y', 'Accelerometer_Z', 'Gyro_X',\n",
      "       'Gyro_Y', 'Gyro_Z', 'HeadBandOn', 'HSI_TP9', 'HSI_AF7', 'HSI_AF8',\n",
      "       'HSI_TP10', 'Battery', 'Elements'],\n",
      "      dtype='object')\n"
     ]
    }
   ],
   "source": [
    "print(\"data.keys: \", EEG_data.keys())   "
   ]
  },
  {
   "cell_type": "code",
   "execution_count": 26,
   "metadata": {},
   "outputs": [
    {
     "name": "stdout",
     "output_type": "stream",
     "text": [
      "   Alpha_TP9\n",
      "0   1.189431\n",
      "1   0.938558\n",
      "2   1.091162\n",
      "3   0.938403\n",
      "4   0.848078\n"
     ]
    }
   ],
   "source": [
    "Alpha_TP9 = pd.DataFrame(EEG_data, columns=['Alpha_TP9'])   \n",
    "print(Alpha_TP9)\n"
   ]
  },
  {
   "cell_type": "code",
   "execution_count": null,
   "metadata": {},
   "outputs": [],
   "source": []
  }
 ],
 "metadata": {
  "kernelspec": {
   "display_name": "Python 3",
   "language": "python",
   "name": "python3"
  },
  "language_info": {
   "codemirror_mode": {
    "name": "ipython",
    "version": 3
   },
   "file_extension": ".py",
   "mimetype": "text/x-python",
   "name": "python",
   "nbconvert_exporter": "python",
   "pygments_lexer": "ipython3",
   "version": "3.7.4"
  }
 },
 "nbformat": 4,
 "nbformat_minor": 2
}
